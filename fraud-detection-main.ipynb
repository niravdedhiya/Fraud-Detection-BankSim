{
 "cells": [
  {
   "cell_type": "markdown",
   "metadata": {},
   "source": [
    "# Importing Libraries"
   ]
  },
  {
   "cell_type": "code",
   "execution_count": 1,
   "metadata": {
    "id": "58LSL241JQK0"
   },
   "outputs": [],
   "source": [
    "import pandas as pd\n",
    "import numpy as np\n",
    "import pandas as pd\n",
    "import matplotlib.pyplot as plt\n",
    "import matplotlib.mlab as mlab\n",
    "import json\n",
    "from sklearn.preprocessing import StandardScaler, LabelEncoder, MinMaxScaler\n",
    "from sklearn.model_selection import KFold, train_test_split, StratifiedKFold\n",
    "from sklearn.svm import SVC\n",
    "from sklearn.ensemble import RandomForestClassifier\n",
    "from sklearn.linear_model import LogisticRegression\n",
    "from sklearn.metrics import accuracy_score, precision_recall_fscore_support, classification_report, roc_auc_score, confusion_matrix, plot_confusion_matrix, roc_curve\n",
    "from imblearn.over_sampling import SMOTE, RandomOverSampler\n",
    "from imblearn.under_sampling import RandomUnderSampler\n",
    "from collections import Counter\n",
    "from sklearn.decomposition import PCA\n",
    "from sklearn.neighbors import KNeighborsClassifier\n",
    "from xgboost import XGBClassifier\n",
    "from matplotlib import pyplot\n",
    "import seaborn as sns\n",
    "import warnings\n",
    "import itertools\n",
    "warnings.filterwarnings(\"ignore\")\n",
    "%matplotlib inline"
   ]
  },
  {
   "cell_type": "markdown",
   "metadata": {},
   "source": [
    "# Importing the csv file\n",
    "Use Pandas to load input csv. Process the dataframe by dropping the unecessary columns."
   ]
  },
  {
   "cell_type": "code",
   "execution_count": 2,
   "metadata": {
    "colab": {
     "base_uri": "https://localhost:8080/",
     "height": 206
    },
    "id": "Y3t14LrAKHJR",
    "outputId": "e1fe844c-9b7f-4b11-c282-714e49283c68"
   },
   "outputs": [
    {
     "data": {
      "text/html": [
       "<div>\n",
       "<style scoped>\n",
       "    .dataframe tbody tr th:only-of-type {\n",
       "        vertical-align: middle;\n",
       "    }\n",
       "\n",
       "    .dataframe tbody tr th {\n",
       "        vertical-align: top;\n",
       "    }\n",
       "\n",
       "    .dataframe thead th {\n",
       "        text-align: right;\n",
       "    }\n",
       "</style>\n",
       "<table border=\"1\" class=\"dataframe\">\n",
       "  <thead>\n",
       "    <tr style=\"text-align: right;\">\n",
       "      <th></th>\n",
       "      <th>step</th>\n",
       "      <th>customer</th>\n",
       "      <th>age</th>\n",
       "      <th>gender</th>\n",
       "      <th>zipcodeOri</th>\n",
       "      <th>merchant</th>\n",
       "      <th>zipMerchant</th>\n",
       "      <th>category</th>\n",
       "      <th>amount</th>\n",
       "      <th>fraud</th>\n",
       "    </tr>\n",
       "  </thead>\n",
       "  <tbody>\n",
       "    <tr>\n",
       "      <th>0</th>\n",
       "      <td>0</td>\n",
       "      <td>'C1093826151'</td>\n",
       "      <td>'4'</td>\n",
       "      <td>'M'</td>\n",
       "      <td>'28007'</td>\n",
       "      <td>'M348934600'</td>\n",
       "      <td>'28007'</td>\n",
       "      <td>'es_transportation'</td>\n",
       "      <td>4.55</td>\n",
       "      <td>0</td>\n",
       "    </tr>\n",
       "    <tr>\n",
       "      <th>1</th>\n",
       "      <td>0</td>\n",
       "      <td>'C352968107'</td>\n",
       "      <td>'2'</td>\n",
       "      <td>'M'</td>\n",
       "      <td>'28007'</td>\n",
       "      <td>'M348934600'</td>\n",
       "      <td>'28007'</td>\n",
       "      <td>'es_transportation'</td>\n",
       "      <td>39.68</td>\n",
       "      <td>0</td>\n",
       "    </tr>\n",
       "    <tr>\n",
       "      <th>2</th>\n",
       "      <td>0</td>\n",
       "      <td>'C2054744914'</td>\n",
       "      <td>'4'</td>\n",
       "      <td>'F'</td>\n",
       "      <td>'28007'</td>\n",
       "      <td>'M1823072687'</td>\n",
       "      <td>'28007'</td>\n",
       "      <td>'es_transportation'</td>\n",
       "      <td>26.89</td>\n",
       "      <td>0</td>\n",
       "    </tr>\n",
       "    <tr>\n",
       "      <th>3</th>\n",
       "      <td>0</td>\n",
       "      <td>'C1760612790'</td>\n",
       "      <td>'3'</td>\n",
       "      <td>'M'</td>\n",
       "      <td>'28007'</td>\n",
       "      <td>'M348934600'</td>\n",
       "      <td>'28007'</td>\n",
       "      <td>'es_transportation'</td>\n",
       "      <td>17.25</td>\n",
       "      <td>0</td>\n",
       "    </tr>\n",
       "    <tr>\n",
       "      <th>4</th>\n",
       "      <td>0</td>\n",
       "      <td>'C757503768'</td>\n",
       "      <td>'5'</td>\n",
       "      <td>'M'</td>\n",
       "      <td>'28007'</td>\n",
       "      <td>'M348934600'</td>\n",
       "      <td>'28007'</td>\n",
       "      <td>'es_transportation'</td>\n",
       "      <td>35.72</td>\n",
       "      <td>0</td>\n",
       "    </tr>\n",
       "  </tbody>\n",
       "</table>\n",
       "</div>"
      ],
      "text/plain": [
       "   step       customer  age gender zipcodeOri       merchant zipMerchant  \\\n",
       "0     0  'C1093826151'  '4'    'M'    '28007'   'M348934600'     '28007'   \n",
       "1     0   'C352968107'  '2'    'M'    '28007'   'M348934600'     '28007'   \n",
       "2     0  'C2054744914'  '4'    'F'    '28007'  'M1823072687'     '28007'   \n",
       "3     0  'C1760612790'  '3'    'M'    '28007'   'M348934600'     '28007'   \n",
       "4     0   'C757503768'  '5'    'M'    '28007'   'M348934600'     '28007'   \n",
       "\n",
       "              category  amount  fraud  \n",
       "0  'es_transportation'    4.55      0  \n",
       "1  'es_transportation'   39.68      0  \n",
       "2  'es_transportation'   26.89      0  \n",
       "3  'es_transportation'   17.25      0  \n",
       "4  'es_transportation'   35.72      0  "
      ]
     },
     "execution_count": 2,
     "metadata": {},
     "output_type": "execute_result"
    }
   ],
   "source": [
    "df = pd.read_csv(\"data/bs140513_032310.csv\")\n",
    "df.head()"
   ]
  },
  {
   "cell_type": "code",
   "execution_count": 3,
   "metadata": {},
   "outputs": [
    {
     "data": {
      "text/html": [
       "<div>\n",
       "<style scoped>\n",
       "    .dataframe tbody tr th:only-of-type {\n",
       "        vertical-align: middle;\n",
       "    }\n",
       "\n",
       "    .dataframe tbody tr th {\n",
       "        vertical-align: top;\n",
       "    }\n",
       "\n",
       "    .dataframe thead th {\n",
       "        text-align: right;\n",
       "    }\n",
       "</style>\n",
       "<table border=\"1\" class=\"dataframe\">\n",
       "  <thead>\n",
       "    <tr style=\"text-align: right;\">\n",
       "      <th></th>\n",
       "      <th>customer</th>\n",
       "      <th>merchant</th>\n",
       "      <th>category</th>\n",
       "      <th>amount</th>\n",
       "      <th>fraud</th>\n",
       "    </tr>\n",
       "  </thead>\n",
       "  <tbody>\n",
       "    <tr>\n",
       "      <th>0</th>\n",
       "      <td>'C1093826151'</td>\n",
       "      <td>'M348934600'</td>\n",
       "      <td>'es_transportation'</td>\n",
       "      <td>4.55</td>\n",
       "      <td>0</td>\n",
       "    </tr>\n",
       "    <tr>\n",
       "      <th>1</th>\n",
       "      <td>'C352968107'</td>\n",
       "      <td>'M348934600'</td>\n",
       "      <td>'es_transportation'</td>\n",
       "      <td>39.68</td>\n",
       "      <td>0</td>\n",
       "    </tr>\n",
       "    <tr>\n",
       "      <th>2</th>\n",
       "      <td>'C2054744914'</td>\n",
       "      <td>'M1823072687'</td>\n",
       "      <td>'es_transportation'</td>\n",
       "      <td>26.89</td>\n",
       "      <td>0</td>\n",
       "    </tr>\n",
       "    <tr>\n",
       "      <th>3</th>\n",
       "      <td>'C1760612790'</td>\n",
       "      <td>'M348934600'</td>\n",
       "      <td>'es_transportation'</td>\n",
       "      <td>17.25</td>\n",
       "      <td>0</td>\n",
       "    </tr>\n",
       "    <tr>\n",
       "      <th>4</th>\n",
       "      <td>'C757503768'</td>\n",
       "      <td>'M348934600'</td>\n",
       "      <td>'es_transportation'</td>\n",
       "      <td>35.72</td>\n",
       "      <td>0</td>\n",
       "    </tr>\n",
       "  </tbody>\n",
       "</table>\n",
       "</div>"
      ],
      "text/plain": [
       "        customer       merchant             category  amount  fraud\n",
       "0  'C1093826151'   'M348934600'  'es_transportation'    4.55      0\n",
       "1   'C352968107'   'M348934600'  'es_transportation'   39.68      0\n",
       "2  'C2054744914'  'M1823072687'  'es_transportation'   26.89      0\n",
       "3  'C1760612790'   'M348934600'  'es_transportation'   17.25      0\n",
       "4   'C757503768'   'M348934600'  'es_transportation'   35.72      0"
      ]
     },
     "execution_count": 3,
     "metadata": {},
     "output_type": "execute_result"
    }
   ],
   "source": [
    "df.drop(['step', 'age','gender','zipcodeOri','zipMerchant'], axis=1, inplace=True)\n",
    "df.head()"
   ]
  },
  {
   "cell_type": "markdown",
   "metadata": {},
   "source": [
    "# Loading Graph Json\n",
    "Load the graph json file created using cypher query language on Neo4j graph, Extract useful features like degree, pagerank, etc. and append the data to the input dataframe object."
   ]
  },
  {
   "cell_type": "code",
   "execution_count": 4,
   "metadata": {
    "id": "TtwMl77jZPT_"
   },
   "outputs": [],
   "source": [
    "# Opening JSON file\n",
    "f = open('data/graph_features.json')\n",
    "data = json.load(f)"
   ]
  },
  {
   "cell_type": "code",
   "execution_count": 5,
   "metadata": {
    "id": "Onm8Lm7lX-6y"
   },
   "outputs": [],
   "source": [
    "graph_features = {}\n",
    "for d in data:\n",
    "    graph_features[d['id']] = {'degree': d['degree'], 'pagerank': d['pagerank'], 'community': d['community']}"
   ]
  },
  {
   "cell_type": "code",
   "execution_count": 6,
   "metadata": {
    "id": "VQ0NrdqdYN69"
   },
   "outputs": [],
   "source": [
    "# Helper functions to add network features to input dataframe \n",
    "def addDegree(x):\n",
    "    return graph_features[x]['degree']\n",
    "def addCommunity(x):\n",
    "    return str(graph_features[x]['community'])\n",
    "def addPagerank(x):\n",
    "    return graph_features[x]['pagerank']"
   ]
  },
  {
   "cell_type": "code",
   "execution_count": 7,
   "metadata": {
    "id": "FC0AP_YVYDCW"
   },
   "outputs": [],
   "source": [
    "df['custPageRank'] = df.customer.apply(addPagerank)\n",
    "df['merchPageRank'] = df.merchant.apply(addPagerank)\n",
    "df['merchDegree'] = df.merchant.apply(addDegree)\n",
    "df['custDegree'] = df.customer.apply(addDegree)\n",
    "df['merchCommunity'] = df.merchant.apply(addCommunity)\n",
    "df['custCommunity'] = df.customer.apply(addCommunity)"
   ]
  },
  {
   "cell_type": "code",
   "execution_count": 8,
   "metadata": {},
   "outputs": [
    {
     "data": {
      "text/html": [
       "<div>\n",
       "<style scoped>\n",
       "    .dataframe tbody tr th:only-of-type {\n",
       "        vertical-align: middle;\n",
       "    }\n",
       "\n",
       "    .dataframe tbody tr th {\n",
       "        vertical-align: top;\n",
       "    }\n",
       "\n",
       "    .dataframe thead th {\n",
       "        text-align: right;\n",
       "    }\n",
       "</style>\n",
       "<table border=\"1\" class=\"dataframe\">\n",
       "  <thead>\n",
       "    <tr style=\"text-align: right;\">\n",
       "      <th></th>\n",
       "      <th>customer</th>\n",
       "      <th>merchant</th>\n",
       "      <th>category</th>\n",
       "      <th>amount</th>\n",
       "      <th>fraud</th>\n",
       "      <th>custPageRank</th>\n",
       "      <th>merchPageRank</th>\n",
       "      <th>merchDegree</th>\n",
       "      <th>custDegree</th>\n",
       "      <th>merchCommunity</th>\n",
       "      <th>custCommunity</th>\n",
       "    </tr>\n",
       "  </thead>\n",
       "  <tbody>\n",
       "    <tr>\n",
       "      <th>0</th>\n",
       "      <td>'C1093826151'</td>\n",
       "      <td>'M348934600'</td>\n",
       "      <td>'es_transportation'</td>\n",
       "      <td>4.55</td>\n",
       "      <td>0</td>\n",
       "      <td>0.15</td>\n",
       "      <td>139.320182</td>\n",
       "      <td>11787</td>\n",
       "      <td>7</td>\n",
       "      <td>608498</td>\n",
       "      <td>608498</td>\n",
       "    </tr>\n",
       "    <tr>\n",
       "      <th>1</th>\n",
       "      <td>'C352968107'</td>\n",
       "      <td>'M348934600'</td>\n",
       "      <td>'es_transportation'</td>\n",
       "      <td>39.68</td>\n",
       "      <td>0</td>\n",
       "      <td>0.15</td>\n",
       "      <td>139.320182</td>\n",
       "      <td>11787</td>\n",
       "      <td>12</td>\n",
       "      <td>608498</td>\n",
       "      <td>608498</td>\n",
       "    </tr>\n",
       "    <tr>\n",
       "      <th>2</th>\n",
       "      <td>'C2054744914'</td>\n",
       "      <td>'M1823072687'</td>\n",
       "      <td>'es_transportation'</td>\n",
       "      <td>26.89</td>\n",
       "      <td>0</td>\n",
       "      <td>0.15</td>\n",
       "      <td>123.870722</td>\n",
       "      <td>10719</td>\n",
       "      <td>14</td>\n",
       "      <td>608499</td>\n",
       "      <td>608498</td>\n",
       "    </tr>\n",
       "    <tr>\n",
       "      <th>3</th>\n",
       "      <td>'C1760612790'</td>\n",
       "      <td>'M348934600'</td>\n",
       "      <td>'es_transportation'</td>\n",
       "      <td>17.25</td>\n",
       "      <td>0</td>\n",
       "      <td>0.15</td>\n",
       "      <td>139.320182</td>\n",
       "      <td>11787</td>\n",
       "      <td>11</td>\n",
       "      <td>608498</td>\n",
       "      <td>608498</td>\n",
       "    </tr>\n",
       "    <tr>\n",
       "      <th>4</th>\n",
       "      <td>'C757503768'</td>\n",
       "      <td>'M348934600'</td>\n",
       "      <td>'es_transportation'</td>\n",
       "      <td>35.72</td>\n",
       "      <td>0</td>\n",
       "      <td>0.15</td>\n",
       "      <td>139.320182</td>\n",
       "      <td>11787</td>\n",
       "      <td>14</td>\n",
       "      <td>608498</td>\n",
       "      <td>608498</td>\n",
       "    </tr>\n",
       "  </tbody>\n",
       "</table>\n",
       "</div>"
      ],
      "text/plain": [
       "        customer       merchant             category  amount  fraud  \\\n",
       "0  'C1093826151'   'M348934600'  'es_transportation'    4.55      0   \n",
       "1   'C352968107'   'M348934600'  'es_transportation'   39.68      0   \n",
       "2  'C2054744914'  'M1823072687'  'es_transportation'   26.89      0   \n",
       "3  'C1760612790'   'M348934600'  'es_transportation'   17.25      0   \n",
       "4   'C757503768'   'M348934600'  'es_transportation'   35.72      0   \n",
       "\n",
       "   custPageRank  merchPageRank  merchDegree  custDegree merchCommunity  \\\n",
       "0          0.15     139.320182        11787           7         608498   \n",
       "1          0.15     139.320182        11787          12         608498   \n",
       "2          0.15     123.870722        10719          14         608499   \n",
       "3          0.15     139.320182        11787          11         608498   \n",
       "4          0.15     139.320182        11787          14         608498   \n",
       "\n",
       "  custCommunity  \n",
       "0        608498  \n",
       "1        608498  \n",
       "2        608498  \n",
       "3        608498  \n",
       "4        608498  "
      ]
     },
     "execution_count": 8,
     "metadata": {},
     "output_type": "execute_result"
    }
   ],
   "source": [
    "df.head()"
   ]
  },
  {
   "cell_type": "markdown",
   "metadata": {},
   "source": [
    "## Extracting labels from dataframe"
   ]
  },
  {
   "cell_type": "code",
   "execution_count": 9,
   "metadata": {
    "id": "FlltufXZzqmb"
   },
   "outputs": [],
   "source": [
    "label = df.fraud"
   ]
  },
  {
   "cell_type": "code",
   "execution_count": 10,
   "metadata": {
    "id": "1uxAdwFcYIMI"
   },
   "outputs": [],
   "source": [
    "features_graph = df.drop('fraud', axis = 1)"
   ]
  },
  {
   "cell_type": "markdown",
   "metadata": {},
   "source": [
    "## Scaling the attributes"
   ]
  },
  {
   "cell_type": "code",
   "execution_count": 11,
   "metadata": {
    "id": "JZ51a4coYKCN"
   },
   "outputs": [],
   "source": [
    "scaler = MinMaxScaler()\n",
    "df[['amount', 'merchDegree', 'custDegree', 'custPageRank', 'merchPageRank']] = scaler.fit_transform(df[['amount', 'merchDegree', 'custDegree', 'custPageRank', 'merchPageRank']])\n",
    "features_graph[['amount', 'merchDegree', 'custDegree', 'custPageRank', 'merchPageRank']] = df[['amount', 'merchDegree', 'custDegree', 'custPageRank', 'merchPageRank']]"
   ]
  },
  {
   "cell_type": "markdown",
   "metadata": {},
   "source": [
    "## One hot encoding of categorical features"
   ]
  },
  {
   "cell_type": "code",
   "execution_count": 12,
   "metadata": {
    "id": "Kl3Eao7RYbE7"
   },
   "outputs": [],
   "source": [
    "final_features = pd.get_dummies(features_graph)"
   ]
  },
  {
   "cell_type": "code",
   "execution_count": 13,
   "metadata": {},
   "outputs": [
    {
     "data": {
      "text/html": [
       "<div>\n",
       "<style scoped>\n",
       "    .dataframe tbody tr th:only-of-type {\n",
       "        vertical-align: middle;\n",
       "    }\n",
       "\n",
       "    .dataframe tbody tr th {\n",
       "        vertical-align: top;\n",
       "    }\n",
       "\n",
       "    .dataframe thead th {\n",
       "        text-align: right;\n",
       "    }\n",
       "</style>\n",
       "<table border=\"1\" class=\"dataframe\">\n",
       "  <thead>\n",
       "    <tr style=\"text-align: right;\">\n",
       "      <th></th>\n",
       "      <th>amount</th>\n",
       "      <th>custPageRank</th>\n",
       "      <th>merchPageRank</th>\n",
       "      <th>merchDegree</th>\n",
       "      <th>custDegree</th>\n",
       "      <th>customer_'C1000148617'</th>\n",
       "      <th>customer_'C100045114'</th>\n",
       "      <th>customer_'C1000699316'</th>\n",
       "      <th>customer_'C1001065306'</th>\n",
       "      <th>customer_'C1002658784'</th>\n",
       "      <th>...</th>\n",
       "      <th>merchCommunity_608544</th>\n",
       "      <th>merchCommunity_608545</th>\n",
       "      <th>merchCommunity_608546</th>\n",
       "      <th>merchCommunity_608547</th>\n",
       "      <th>custCommunity_608498</th>\n",
       "      <th>custCommunity_608499</th>\n",
       "      <th>custCommunity_608500</th>\n",
       "      <th>custCommunity_608501</th>\n",
       "      <th>custCommunity_608504</th>\n",
       "      <th>custCommunity_608505</th>\n",
       "    </tr>\n",
       "  </thead>\n",
       "  <tbody>\n",
       "    <tr>\n",
       "      <th>0</th>\n",
       "      <td>0.000546</td>\n",
       "      <td>0.0</td>\n",
       "      <td>1.000000</td>\n",
       "      <td>1.000000</td>\n",
       "      <td>0.172414</td>\n",
       "      <td>0</td>\n",
       "      <td>0</td>\n",
       "      <td>0</td>\n",
       "      <td>0</td>\n",
       "      <td>0</td>\n",
       "      <td>...</td>\n",
       "      <td>0</td>\n",
       "      <td>0</td>\n",
       "      <td>0</td>\n",
       "      <td>0</td>\n",
       "      <td>1</td>\n",
       "      <td>0</td>\n",
       "      <td>0</td>\n",
       "      <td>0</td>\n",
       "      <td>0</td>\n",
       "      <td>0</td>\n",
       "    </tr>\n",
       "    <tr>\n",
       "      <th>1</th>\n",
       "      <td>0.004764</td>\n",
       "      <td>0.0</td>\n",
       "      <td>1.000000</td>\n",
       "      <td>1.000000</td>\n",
       "      <td>0.344828</td>\n",
       "      <td>0</td>\n",
       "      <td>0</td>\n",
       "      <td>0</td>\n",
       "      <td>0</td>\n",
       "      <td>0</td>\n",
       "      <td>...</td>\n",
       "      <td>0</td>\n",
       "      <td>0</td>\n",
       "      <td>0</td>\n",
       "      <td>0</td>\n",
       "      <td>1</td>\n",
       "      <td>0</td>\n",
       "      <td>0</td>\n",
       "      <td>0</td>\n",
       "      <td>0</td>\n",
       "      <td>0</td>\n",
       "    </tr>\n",
       "    <tr>\n",
       "      <th>2</th>\n",
       "      <td>0.003228</td>\n",
       "      <td>0.0</td>\n",
       "      <td>0.888913</td>\n",
       "      <td>0.909322</td>\n",
       "      <td>0.413793</td>\n",
       "      <td>0</td>\n",
       "      <td>0</td>\n",
       "      <td>0</td>\n",
       "      <td>0</td>\n",
       "      <td>0</td>\n",
       "      <td>...</td>\n",
       "      <td>0</td>\n",
       "      <td>0</td>\n",
       "      <td>0</td>\n",
       "      <td>0</td>\n",
       "      <td>1</td>\n",
       "      <td>0</td>\n",
       "      <td>0</td>\n",
       "      <td>0</td>\n",
       "      <td>0</td>\n",
       "      <td>0</td>\n",
       "    </tr>\n",
       "    <tr>\n",
       "      <th>3</th>\n",
       "      <td>0.002071</td>\n",
       "      <td>0.0</td>\n",
       "      <td>1.000000</td>\n",
       "      <td>1.000000</td>\n",
       "      <td>0.310345</td>\n",
       "      <td>0</td>\n",
       "      <td>0</td>\n",
       "      <td>0</td>\n",
       "      <td>0</td>\n",
       "      <td>0</td>\n",
       "      <td>...</td>\n",
       "      <td>0</td>\n",
       "      <td>0</td>\n",
       "      <td>0</td>\n",
       "      <td>0</td>\n",
       "      <td>1</td>\n",
       "      <td>0</td>\n",
       "      <td>0</td>\n",
       "      <td>0</td>\n",
       "      <td>0</td>\n",
       "      <td>0</td>\n",
       "    </tr>\n",
       "    <tr>\n",
       "      <th>4</th>\n",
       "      <td>0.004288</td>\n",
       "      <td>0.0</td>\n",
       "      <td>1.000000</td>\n",
       "      <td>1.000000</td>\n",
       "      <td>0.413793</td>\n",
       "      <td>0</td>\n",
       "      <td>0</td>\n",
       "      <td>0</td>\n",
       "      <td>0</td>\n",
       "      <td>0</td>\n",
       "      <td>...</td>\n",
       "      <td>0</td>\n",
       "      <td>0</td>\n",
       "      <td>0</td>\n",
       "      <td>0</td>\n",
       "      <td>1</td>\n",
       "      <td>0</td>\n",
       "      <td>0</td>\n",
       "      <td>0</td>\n",
       "      <td>0</td>\n",
       "      <td>0</td>\n",
       "    </tr>\n",
       "  </tbody>\n",
       "</table>\n",
       "<p>5 rows × 4238 columns</p>\n",
       "</div>"
      ],
      "text/plain": [
       "     amount  custPageRank  merchPageRank  merchDegree  custDegree  \\\n",
       "0  0.000546           0.0       1.000000     1.000000    0.172414   \n",
       "1  0.004764           0.0       1.000000     1.000000    0.344828   \n",
       "2  0.003228           0.0       0.888913     0.909322    0.413793   \n",
       "3  0.002071           0.0       1.000000     1.000000    0.310345   \n",
       "4  0.004288           0.0       1.000000     1.000000    0.413793   \n",
       "\n",
       "   customer_'C1000148617'  customer_'C100045114'  customer_'C1000699316'  \\\n",
       "0                       0                      0                       0   \n",
       "1                       0                      0                       0   \n",
       "2                       0                      0                       0   \n",
       "3                       0                      0                       0   \n",
       "4                       0                      0                       0   \n",
       "\n",
       "   customer_'C1001065306'  customer_'C1002658784'  ...  merchCommunity_608544  \\\n",
       "0                       0                       0  ...                      0   \n",
       "1                       0                       0  ...                      0   \n",
       "2                       0                       0  ...                      0   \n",
       "3                       0                       0  ...                      0   \n",
       "4                       0                       0  ...                      0   \n",
       "\n",
       "   merchCommunity_608545  merchCommunity_608546  merchCommunity_608547  \\\n",
       "0                      0                      0                      0   \n",
       "1                      0                      0                      0   \n",
       "2                      0                      0                      0   \n",
       "3                      0                      0                      0   \n",
       "4                      0                      0                      0   \n",
       "\n",
       "   custCommunity_608498  custCommunity_608499  custCommunity_608500  \\\n",
       "0                     1                     0                     0   \n",
       "1                     1                     0                     0   \n",
       "2                     1                     0                     0   \n",
       "3                     1                     0                     0   \n",
       "4                     1                     0                     0   \n",
       "\n",
       "   custCommunity_608501  custCommunity_608504  custCommunity_608505  \n",
       "0                     0                     0                     0  \n",
       "1                     0                     0                     0  \n",
       "2                     0                     0                     0  \n",
       "3                     0                     0                     0  \n",
       "4                     0                     0                     0  \n",
       "\n",
       "[5 rows x 4238 columns]"
      ]
     },
     "execution_count": 13,
     "metadata": {},
     "output_type": "execute_result"
    }
   ],
   "source": [
    "final_features.head()"
   ]
  },
  {
   "cell_type": "markdown",
   "metadata": {},
   "source": [
    "# Handling the class Imbalance Issue\n",
    "Use RandomSampling and SMOTE to handle class imbalance."
   ]
  },
  {
   "cell_type": "code",
   "execution_count": 14,
   "metadata": {
    "colab": {
     "base_uri": "https://localhost:8080/"
    },
    "id": "nY5sU7Gs0ifa",
    "outputId": "c5d90520-f7a2-468c-c7ca-4bf9cdba2f23"
   },
   "outputs": [
    {
     "name": "stdout",
     "output_type": "stream",
     "text": [
      "counts of label '1': 7200\n",
      "counts of label '0': 587443 \n",
      "\n"
     ]
    }
   ],
   "source": [
    "print(\"counts of label '1': {}\".format(sum(label == 1)))\n",
    "print(\"counts of label '0': {} \\n\".format(sum(label == 0)))"
   ]
  },
  {
   "cell_type": "code",
   "execution_count": 15,
   "metadata": {
    "colab": {
     "base_uri": "https://localhost:8080/",
     "height": 283
    },
    "id": "SPkL8zpJf6_t",
    "outputId": "3ff62839-3766-4ac1-c242-7681eb95aed9"
   },
   "outputs": [
    {
     "data": {
      "image/png": "[encoded data removed]",
      "text/plain": [
       "<Figure size 432x288 with 1 Axes>"
      ]
     },
     "metadata": {},
     "output_type": "display_data"
    }
   ],
   "source": [
    "fig,ax=plt.subplots(1,1)\n",
    "plt.pie(x=label.value_counts(),labels=[\"0\",\"1\"],colors=sns.color_palette('pastel'),autopct=\"%.1f%%\")\n",
    "fig.suptitle(\"Class distribution in dataset\",y=1,fontweight=\"bold\",fontsize=15)\n",
    "plt.show()"
   ]
  },
  {
   "cell_type": "code",
   "execution_count": 16,
   "metadata": {},
   "outputs": [],
   "source": [
    "under = RandomUnderSampler(0.03)\n",
    "X_under, y_under = under.fit_resample(final_features, label)"
   ]
  },
  {
   "cell_type": "code",
   "execution_count": 17,
   "metadata": {},
   "outputs": [],
   "source": [
    "sm = SMOTE(random_state=2, sampling_strategy=0.5)\n",
    "features_resample, labels_resample = sm.fit_resample(X_under, y_under.ravel())"
   ]
  },
  {
   "cell_type": "code",
   "execution_count": 18,
   "metadata": {},
   "outputs": [
    {
     "name": "stdout",
     "output_type": "stream",
     "text": [
      "counts of label '1' after resampling: 120000\n",
      "counts of label '0' after resampling: 240000 \n",
      "\n"
     ]
    }
   ],
   "source": [
    "print(\"counts of label '1' after resampling: {}\".format(sum(labels_resample == 1)))\n",
    "print(\"counts of label '0' after resampling: {} \\n\".format(sum(labels_resample == 0)))"
   ]
  },
  {
   "cell_type": "code",
   "execution_count": 19,
   "metadata": {},
   "outputs": [],
   "source": [
    "labels_df = pd.Series(labels_resample) "
   ]
  },
  {
   "cell_type": "code",
   "execution_count": 20,
   "metadata": {},
   "outputs": [
    {
     "data": {
      "image/png": "[encoded data removed]",
      "text/plain": [
       "<Figure size 432x288 with 1 Axes>"
      ]
     },
     "metadata": {},
     "output_type": "display_data"
    }
   ],
   "source": [
    "fig,ax=plt.subplots(1,1)\n",
    "plt.pie(x=labels_df.value_counts(),labels=[\"0\",\"1\"],colors=sns.color_palette('pastel'),autopct=\"%.1f%%\")\n",
    "fig.suptitle(\"Class distribution in dataset after resampling\",y=1,fontweight=\"bold\",fontsize=15)\n",
    "plt.show()"
   ]
  },
  {
   "cell_type": "markdown",
   "metadata": {},
   "source": [
    "## Utility functions to plot confusion matrix and ROC"
   ]
  },
  {
   "cell_type": "code",
   "execution_count": 21,
   "metadata": {
    "id": "KgY3bq4nlf3d"
   },
   "outputs": [],
   "source": [
    "def plot_confusion_matrix(cm, classes,\n",
    "                          normalize=False,\n",
    "                          title='Confusion matrix',\n",
    "                          cmap=plt.cm.Blues):\n",
    "    plt.imshow(cm, interpolation='nearest', cmap=cmap)\n",
    "    plt.title(title)\n",
    "    plt.colorbar()\n",
    "    tick_marks = np.arange(len(classes))\n",
    "    plt.xticks(tick_marks, classes, rotation=0)\n",
    "    plt.yticks(tick_marks, classes)\n",
    "\n",
    "    if normalize:\n",
    "        cm = cm.astype('float') / cm.sum(axis=1)[:, np.newaxis]\n",
    "    else:\n",
    "        1\n",
    "\n",
    "    thresh = cm.max() / 2.\n",
    "    for i, j in itertools.product(range(cm.shape[0]), range(cm.shape[1])):\n",
    "        plt.text(j, i, cm[i, j],\n",
    "                 horizontalalignment=\"center\",\n",
    "                 color=\"white\" if cm[i, j] > thresh else \"black\")\n",
    "\n",
    "    plt.tight_layout()\n",
    "    plt.ylabel('True label')\n",
    "    plt.xlabel('Predicted label')"
   ]
  },
  {
   "cell_type": "code",
   "execution_count": 22,
   "metadata": {
    "id": "8gz9LZfmdXSi"
   },
   "outputs": [],
   "source": [
    "def plot_roc(predictions_prob, y_test_enh, ns_probs, model):\n",
    "  lr_probs = predictions_prob[:, 1]\n",
    "  ns_auc = roc_auc_score(y_test_enh, ns_probs)\n",
    "  lr_auc = roc_auc_score(y_test_enh, lr_probs)\n",
    "  print('No Skill: ROC AUC=%.3f' % (ns_auc))\n",
    "  print(model+': ROC AUC=%.3f' % (lr_auc))\n",
    "  ns_fpr, ns_tpr, _ = roc_curve(y_test_enh, ns_probs)\n",
    "  lr_fpr, lr_tpr, _ = roc_curve(y_test_enh, lr_probs)\n",
    "  pyplot.plot(ns_fpr, ns_tpr, linestyle='--', label='No Skill')\n",
    "  pyplot.plot(lr_fpr, lr_tpr, marker='.', label=model)\n",
    "  pyplot.xlabel('False Positive Rate')\n",
    "  pyplot.ylabel('True Positive Rate')\n",
    "  pyplot.legend()"
   ]
  },
  {
   "cell_type": "markdown",
   "metadata": {},
   "source": [
    "## Instances for final testing of models"
   ]
  },
  {
   "cell_type": "code",
   "execution_count": 23,
   "metadata": {
    "colab": {
     "base_uri": "https://localhost:8080/",
     "height": 112
    },
    "id": "YXHln-AYyb6x",
    "outputId": "2b35db3d-b05b-4a56-aa2d-6c15abd8dbcc"
   },
   "outputs": [
    {
     "data": {
      "text/html": [
       "<div>\n",
       "<style scoped>\n",
       "    .dataframe tbody tr th:only-of-type {\n",
       "        vertical-align: middle;\n",
       "    }\n",
       "\n",
       "    .dataframe tbody tr th {\n",
       "        vertical-align: top;\n",
       "    }\n",
       "\n",
       "    .dataframe thead th {\n",
       "        text-align: right;\n",
       "    }\n",
       "</style>\n",
       "<table border=\"1\" class=\"dataframe\">\n",
       "  <thead>\n",
       "    <tr style=\"text-align: right;\">\n",
       "      <th></th>\n",
       "      <th>customer</th>\n",
       "      <th>merchant</th>\n",
       "      <th>category</th>\n",
       "      <th>amount</th>\n",
       "      <th>fraud</th>\n",
       "      <th>custPageRank</th>\n",
       "      <th>merchPageRank</th>\n",
       "      <th>merchDegree</th>\n",
       "      <th>custDegree</th>\n",
       "      <th>merchCommunity</th>\n",
       "      <th>custCommunity</th>\n",
       "    </tr>\n",
       "  </thead>\n",
       "  <tbody>\n",
       "    <tr>\n",
       "      <th>88</th>\n",
       "      <td>'C583110837'</td>\n",
       "      <td>'M480139044'</td>\n",
       "      <td>'es_health'</td>\n",
       "      <td>0.005313</td>\n",
       "      <td>1</td>\n",
       "      <td>0.0</td>\n",
       "      <td>0.298948</td>\n",
       "      <td>0.336475</td>\n",
       "      <td>0.448276</td>\n",
       "      <td>608504</td>\n",
       "      <td>608498</td>\n",
       "    </tr>\n",
       "    <tr>\n",
       "      <th>0</th>\n",
       "      <td>'C1093826151'</td>\n",
       "      <td>'M348934600'</td>\n",
       "      <td>'es_transportation'</td>\n",
       "      <td>0.000546</td>\n",
       "      <td>0</td>\n",
       "      <td>0.0</td>\n",
       "      <td>1.000000</td>\n",
       "      <td>1.000000</td>\n",
       "      <td>0.172414</td>\n",
       "      <td>608498</td>\n",
       "      <td>608498</td>\n",
       "    </tr>\n",
       "  </tbody>\n",
       "</table>\n",
       "</div>"
      ],
      "text/plain": [
       "         customer      merchant             category    amount  fraud  \\\n",
       "88   'C583110837'  'M480139044'          'es_health'  0.005313      1   \n",
       "0   'C1093826151'  'M348934600'  'es_transportation'  0.000546      0   \n",
       "\n",
       "    custPageRank  merchPageRank  merchDegree  custDegree merchCommunity  \\\n",
       "88           0.0       0.298948     0.336475    0.448276         608504   \n",
       "0            0.0       1.000000     1.000000    0.172414         608498   \n",
       "\n",
       "   custCommunity  \n",
       "88        608498  \n",
       "0         608498  "
      ]
     },
     "execution_count": 23,
     "metadata": {},
     "output_type": "execute_result"
    }
   ],
   "source": [
    "label_list = list(label)\n",
    "test_data = df.iloc[[label_list.index(1)]] ## ground truth: fraud\n",
    "test_data = test_data.append(df.iloc[[label_list.index(0)]]) ## ground truth: no fraud\n",
    "test_data.head()"
   ]
  },
  {
   "cell_type": "code",
   "execution_count": 24,
   "metadata": {
    "id": "cdnVfKWH5kiY"
   },
   "outputs": [
    {
     "data": {
      "text/html": [
       "<div>\n",
       "<style scoped>\n",
       "    .dataframe tbody tr th:only-of-type {\n",
       "        vertical-align: middle;\n",
       "    }\n",
       "\n",
       "    .dataframe tbody tr th {\n",
       "        vertical-align: top;\n",
       "    }\n",
       "\n",
       "    .dataframe thead th {\n",
       "        text-align: right;\n",
       "    }\n",
       "</style>\n",
       "<table border=\"1\" class=\"dataframe\">\n",
       "  <thead>\n",
       "    <tr style=\"text-align: right;\">\n",
       "      <th></th>\n",
       "      <th>amount</th>\n",
       "      <th>custPageRank</th>\n",
       "      <th>merchPageRank</th>\n",
       "      <th>merchDegree</th>\n",
       "      <th>custDegree</th>\n",
       "      <th>customer_'C1000148617'</th>\n",
       "      <th>customer_'C100045114'</th>\n",
       "      <th>customer_'C1000699316'</th>\n",
       "      <th>customer_'C1001065306'</th>\n",
       "      <th>customer_'C1002658784'</th>\n",
       "      <th>...</th>\n",
       "      <th>merchCommunity_608544</th>\n",
       "      <th>merchCommunity_608545</th>\n",
       "      <th>merchCommunity_608546</th>\n",
       "      <th>merchCommunity_608547</th>\n",
       "      <th>custCommunity_608498</th>\n",
       "      <th>custCommunity_608499</th>\n",
       "      <th>custCommunity_608500</th>\n",
       "      <th>custCommunity_608501</th>\n",
       "      <th>custCommunity_608504</th>\n",
       "      <th>custCommunity_608505</th>\n",
       "    </tr>\n",
       "  </thead>\n",
       "  <tbody>\n",
       "    <tr>\n",
       "      <th>88</th>\n",
       "      <td>0.005313</td>\n",
       "      <td>0.0</td>\n",
       "      <td>0.298948</td>\n",
       "      <td>0.336475</td>\n",
       "      <td>0.448276</td>\n",
       "      <td>0</td>\n",
       "      <td>0</td>\n",
       "      <td>0</td>\n",
       "      <td>0</td>\n",
       "      <td>0</td>\n",
       "      <td>...</td>\n",
       "      <td>0</td>\n",
       "      <td>0</td>\n",
       "      <td>0</td>\n",
       "      <td>0</td>\n",
       "      <td>1</td>\n",
       "      <td>0</td>\n",
       "      <td>0</td>\n",
       "      <td>0</td>\n",
       "      <td>0</td>\n",
       "      <td>0</td>\n",
       "    </tr>\n",
       "    <tr>\n",
       "      <th>0</th>\n",
       "      <td>0.000546</td>\n",
       "      <td>0.0</td>\n",
       "      <td>1.000000</td>\n",
       "      <td>1.000000</td>\n",
       "      <td>0.172414</td>\n",
       "      <td>0</td>\n",
       "      <td>0</td>\n",
       "      <td>0</td>\n",
       "      <td>0</td>\n",
       "      <td>0</td>\n",
       "      <td>...</td>\n",
       "      <td>0</td>\n",
       "      <td>0</td>\n",
       "      <td>0</td>\n",
       "      <td>0</td>\n",
       "      <td>1</td>\n",
       "      <td>0</td>\n",
       "      <td>0</td>\n",
       "      <td>0</td>\n",
       "      <td>0</td>\n",
       "      <td>0</td>\n",
       "    </tr>\n",
       "  </tbody>\n",
       "</table>\n",
       "<p>2 rows × 4238 columns</p>\n",
       "</div>"
      ],
      "text/plain": [
       "      amount  custPageRank  merchPageRank  merchDegree  custDegree  \\\n",
       "88  0.005313           0.0       0.298948     0.336475    0.448276   \n",
       "0   0.000546           0.0       1.000000     1.000000    0.172414   \n",
       "\n",
       "    customer_'C1000148617'  customer_'C100045114'  customer_'C1000699316'  \\\n",
       "88                       0                      0                       0   \n",
       "0                        0                      0                       0   \n",
       "\n",
       "    customer_'C1001065306'  customer_'C1002658784'  ...  \\\n",
       "88                       0                       0  ...   \n",
       "0                        0                       0  ...   \n",
       "\n",
       "    merchCommunity_608544  merchCommunity_608545  merchCommunity_608546  \\\n",
       "88                      0                      0                      0   \n",
       "0                       0                      0                      0   \n",
       "\n",
       "    merchCommunity_608547  custCommunity_608498  custCommunity_608499  \\\n",
       "88                      0                     1                     0   \n",
       "0                       0                     1                     0   \n",
       "\n",
       "    custCommunity_608500  custCommunity_608501  custCommunity_608504  \\\n",
       "88                     0                     0                     0   \n",
       "0                      0                     0                     0   \n",
       "\n",
       "    custCommunity_608505  \n",
       "88                     0  \n",
       "0                      0  \n",
       "\n",
       "[2 rows x 4238 columns]"
      ]
     },
     "execution_count": 24,
     "metadata": {},
     "output_type": "execute_result"
    }
   ],
   "source": [
    "## extracting features for test data\n",
    "\n",
    "test_fraud = final_features.iloc[[label_list.index(1)]]\n",
    "test_no_fraud = final_features.iloc[[label_list.index(0)]]\n",
    "test_data = test_fraud.append(test_no_fraud)\n",
    "test_data.head()"
   ]
  },
  {
   "cell_type": "markdown",
   "metadata": {},
   "source": [
    "## Spliting data into train test sets"
   ]
  },
  {
   "cell_type": "code",
   "execution_count": 25,
   "metadata": {},
   "outputs": [],
   "source": [
    "X_train, X_test, y_train, y_test = train_test_split(features_resample, labels_resample, test_size = 0.3)"
   ]
  },
  {
   "cell_type": "code",
   "execution_count": 26,
   "metadata": {
    "id": "T-WBDX1ehaBe"
   },
   "outputs": [],
   "source": [
    "ns_probs = [0 for _ in range(len(y_test))]"
   ]
  },
  {
   "cell_type": "markdown",
   "metadata": {
    "id": "YZvirCFq6vTF"
   },
   "source": [
    "\n",
    "# Model Training\n",
    "\n",
    "We use three standard classification model: Random Forest, KNN and XGBoost for training on the extracted features. For evaluation we use training time, classification report, confusion matrix and ROC on the test data."
   ]
  },
  {
   "cell_type": "markdown",
   "metadata": {
    "id": "hOU0Vlhv7f_z"
   },
   "source": [
    "## Random Forest"
   ]
  },
  {
   "cell_type": "code",
   "execution_count": 27,
   "metadata": {
    "colab": {
     "base_uri": "https://localhost:8080/"
    },
    "id": "hzBXOi5xaQb1",
    "outputId": "1d050bd7-c7a5-4c49-b626-0eb081ade4d5"
   },
   "outputs": [
    {
     "name": "stdout",
     "output_type": "stream",
     "text": [
      "              precision    recall  f1-score   support\n",
      "\n",
      "           0       1.00      0.97      0.99     71993\n",
      "           1       0.95      1.00      0.97     36007\n",
      "\n",
      "    accuracy                           0.98    108000\n",
      "   macro avg       0.97      0.99      0.98    108000\n",
      "weighted avg       0.98      0.98      0.98    108000\n",
      "\n",
      "Wall time: 4min 35s\n"
     ]
    }
   ],
   "source": [
    "%%time \n",
    "rf = RandomForestClassifier()\n",
    "rf.fit(X_train, y_train.ravel())\n",
    "predictions = rf.predict(X_test)\n",
    "print(classification_report(y_test, predictions))"
   ]
  },
  {
   "cell_type": "markdown",
   "metadata": {
    "id": "p4jr5GGV6kFl"
   },
   "source": [
    "**confusion matrix for test data using random forest**"
   ]
  },
  {
   "cell_type": "code",
   "execution_count": 28,
   "metadata": {
    "colab": {
     "base_uri": "https://localhost:8080/",
     "height": 311
    },
    "id": "X6VEtCPDliwO",
    "outputId": "dba1e5b3-25fd-4200-ae75-c1d869cb6c24"
   },
   "outputs": [
    {
     "data": {
      "image/png": "[encoded data removed]",
      "text/plain": [
       "<Figure size 432x288 with 2 Axes>"
      ]
     },
     "metadata": {
      "needs_background": "light"
     },
     "output_type": "display_data"
    }
   ],
   "source": [
    "cnf_matrix_tra = confusion_matrix(y_test, predictions)\n",
    "class_names = ['No Fraud', 'Fraud']\n",
    "plt.figure()\n",
    "plot_confusion_matrix(cnf_matrix_tra , classes=class_names, title='Confusion matrix')\n",
    "plt.show()"
   ]
  },
  {
   "cell_type": "code",
   "execution_count": 29,
   "metadata": {
    "colab": {
     "base_uri": "https://localhost:8080/",
     "height": 315
    },
    "id": "HlK87qTofNvu",
    "outputId": "3b1eff38-9e24-497e-8d8f-2275b1a6ad7a"
   },
   "outputs": [
    {
     "name": "stdout",
     "output_type": "stream",
     "text": [
      "No Skill: ROC AUC=0.500\n",
      "Random Forest: ROC AUC=0.998\n"
     ]
    },
    {
     "data": {
      "image/png": "[encoded data removed]",
      "text/plain": [
       "<Figure size 432x288 with 1 Axes>"
      ]
     },
     "metadata": {
      "needs_background": "light"
     },
     "output_type": "display_data"
    }
   ],
   "source": [
    "predictions_prob = rf.predict_proba(X_test)\n",
    "plot_roc(predictions_prob, y_test, ns_probs, 'Random Forest')\n",
    "pyplot.show()"
   ]
  },
  {
   "cell_type": "markdown",
   "metadata": {
    "id": "VcTHwYhb7jpf"
   },
   "source": [
    "## KNN"
   ]
  },
  {
   "cell_type": "code",
   "execution_count": 30,
   "metadata": {
    "colab": {
     "base_uri": "https://localhost:8080/"
    },
    "id": "7ULpN4v16-W8",
    "outputId": "ab7e82e5-2349-406c-f536-a23ca499a42c"
   },
   "outputs": [
    {
     "name": "stdout",
     "output_type": "stream",
     "text": [
      "              precision    recall  f1-score   support\n",
      "\n",
      "           0       1.00      0.95      0.97     71993\n",
      "           1       0.91      1.00      0.95     36007\n",
      "\n",
      "    accuracy                           0.97    108000\n",
      "   macro avg       0.96      0.98      0.96    108000\n",
      "weighted avg       0.97      0.97      0.97    108000\n",
      "\n",
      "Wall time: 29min 13s\n"
     ]
    }
   ],
   "source": [
    "%%time \n",
    "knn = KNeighborsClassifier()\n",
    "knn.fit(X_train, y_train.ravel())\n",
    "predictions = knn.predict(X_test)\n",
    "  \n",
    "# print classification report\n",
    "print(classification_report(y_test, predictions))"
   ]
  },
  {
   "cell_type": "markdown",
   "metadata": {
    "id": "6lKPUnIx7XbZ"
   },
   "source": [
    "**confusion matrix for test data using KNN**"
   ]
  },
  {
   "cell_type": "code",
   "execution_count": 31,
   "metadata": {
    "colab": {
     "base_uri": "https://localhost:8080/",
     "height": 311
    },
    "id": "JRs7PByi6-ZH",
    "outputId": "7e98c11c-c524-4586-9563-ba642d2dee19"
   },
   "outputs": [
    {
     "data": {
      "image/png": "[encoded data removed]",
      "text/plain": [
       "<Figure size 432x288 with 2 Axes>"
      ]
     },
     "metadata": {
      "needs_background": "light"
     },
     "output_type": "display_data"
    }
   ],
   "source": [
    "cnf_matrix_tra = confusion_matrix(y_test, predictions)\n",
    "class_names = ['No Fraud', 'Fraud']\n",
    "plt.figure()\n",
    "plot_confusion_matrix(cnf_matrix_tra , classes=class_names, title='Confusion matrix')\n",
    "plt.show()"
   ]
  },
  {
   "cell_type": "code",
   "execution_count": 32,
   "metadata": {
    "colab": {
     "base_uri": "https://localhost:8080/",
     "height": 315
    },
    "id": "DlHw1lfQfXyY",
    "outputId": "889562d8-d3a8-406b-a1e1-c93b4fff1bdb"
   },
   "outputs": [
    {
     "name": "stdout",
     "output_type": "stream",
     "text": [
      "No Skill: ROC AUC=0.500\n",
      "KNN: ROC AUC=0.983\n"
     ]
    },
    {
     "data": {
      "image/png": "[encoded data removed]",
      "text/plain": [
       "<Figure size 432x288 with 1 Axes>"
      ]
     },
     "metadata": {
      "needs_background": "light"
     },
     "output_type": "display_data"
    }
   ],
   "source": [
    "predictions_prob = knn.predict_proba(X_test)\n",
    "plot_roc(predictions_prob, y_test, ns_probs, 'KNN')\n",
    "pyplot.show()"
   ]
  },
  {
   "cell_type": "markdown",
   "metadata": {
    "id": "z6kbPKdf7y9g"
   },
   "source": [
    "## XGBoost"
   ]
  },
  {
   "cell_type": "code",
   "execution_count": 33,
   "metadata": {
    "id": "aAD7bKCf6-bl"
   },
   "outputs": [
    {
     "name": "stdout",
     "output_type": "stream",
     "text": [
      "              precision    recall  f1-score   support\n",
      "\n",
      "           0       0.99      0.99      0.99     71993\n",
      "           1       0.97      0.99      0.98     36007\n",
      "\n",
      "    accuracy                           0.99    108000\n",
      "   macro avg       0.98      0.99      0.98    108000\n",
      "weighted avg       0.99      0.99      0.99    108000\n",
      "\n",
      "Wall time: 7min 34s\n"
     ]
    }
   ],
   "source": [
    "%%time \n",
    "xgb = XGBClassifier()\n",
    "xgb.fit(X_train, y_train.ravel())\n",
    "predictions = xgb.predict(X_test)\n",
    "  \n",
    "# print classification report\n",
    "print(classification_report(y_test, predictions))"
   ]
  },
  {
   "cell_type": "markdown",
   "metadata": {
    "id": "HDbqt7gV8OMu"
   },
   "source": [
    "**confusion matrix for test data using XGBoost**"
   ]
  },
  {
   "cell_type": "code",
   "execution_count": 34,
   "metadata": {
    "id": "hksFI3k96-d8"
   },
   "outputs": [
    {
     "data": {
      "image/png": "[encoded data removed]",
      "text/plain": [
       "<Figure size 432x288 with 2 Axes>"
      ]
     },
     "metadata": {
      "needs_background": "light"
     },
     "output_type": "display_data"
    }
   ],
   "source": [
    "cnf_matrix_tra = confusion_matrix(y_test, predictions)\n",
    "class_names = ['No Fraud', 'Fraud']\n",
    "plt.figure()\n",
    "plot_confusion_matrix(cnf_matrix_tra , classes=class_names, title='Confusion matrix')\n",
    "plt.show()"
   ]
  },
  {
   "cell_type": "code",
   "execution_count": 35,
   "metadata": {
    "id": "tGLqnHG_faqh"
   },
   "outputs": [
    {
     "name": "stdout",
     "output_type": "stream",
     "text": [
      "No Skill: ROC AUC=0.500\n",
      "Random Forest: ROC AUC=0.999\n"
     ]
    },
    {
     "data": {
      "image/png": "[encoded data removed]",
      "text/plain": [
       "<Figure size 432x288 with 1 Axes>"
      ]
     },
     "metadata": {
      "needs_background": "light"
     },
     "output_type": "display_data"
    }
   ],
   "source": [
    "predictions_prob = xgb.predict_proba(X_test)\n",
    "plot_roc(predictions_prob, y_test, ns_probs, 'Random Forest')\n",
    "pyplot.show()"
   ]
  },
  {
   "cell_type": "markdown",
   "metadata": {
    "id": "WRWIIA5x4-H0"
   },
   "source": [
    "# Testing the models\n",
    "testing the model with one fraud and one non fraud instance"
   ]
  },
  {
   "cell_type": "code",
   "execution_count": 36,
   "metadata": {
    "id": "HPKW9C41zGWO"
   },
   "outputs": [
    {
     "name": "stdout",
     "output_type": "stream",
     "text": [
      "{'random forest': array([1, 0], dtype=int64), 'KNN': array([1, 0], dtype=int64), 'XGBoost': array([1, 0])}\n"
     ]
    }
   ],
   "source": [
    "## testing using different models. 0-->no fraud  1-->fraud\n",
    "\n",
    "predicted_results = {}\n",
    "predicted_results['random forest'] = rf.predict(test_data)\n",
    "predicted_results['KNN'] = knn.predict(test_data)\n",
    "predicted_results['XGBoost'] = xgb.predict(test_data)\n",
    "\n",
    "print(predicted_results)"
   ]
  },
  {
   "cell_type": "code",
   "execution_count": null,
   "metadata": {},
   "outputs": [],
   "source": []
  }
 ],
 "metadata": {
  "accelerator": "GPU",
  "colab": {
   "collapsed_sections": [],
   "provenance": []
  },
  "gpuClass": "standard",
  "kernelspec": {
   "display_name": "Python 3 (ipykernel)",
   "language": "python",
   "name": "python3"
  },
  "language_info": {
   "codemirror_mode": {
    "name": "ipython",
    "version": 3
   },
   "file_extension": ".py",
   "mimetype": "text/x-python",
   "name": "python",
   "nbconvert_exporter": "python",
   "pygments_lexer": "ipython3",
   "version": "3.7.7"
  }
 },
 "nbformat": 4,
 "nbformat_minor": 1
}
